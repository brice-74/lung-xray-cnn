{
 "cells": [
  {
   "cell_type": "code",
   "execution_count": 1,
   "metadata": {},
   "outputs": [],
   "source": [
    "# Import dependancies\n",
    "import tensorflow as tf\n",
    "from tensorflow import keras\n",
    "from keras.preprocessing.image import ImageDataGenerator\n",
    "from keras.models import Sequential\n",
    "from keras.models import Model\n",
    "from keras.layers import Dense, Dropout, Flatten, ZeroPadding2D, Conv2D, MaxPooling2D\n",
    "from keras.applications.vgg16 import VGG16\n",
    "from keras.applications.vgg16 import preprocess_input\n",
    "\n",
    "import cv2 as cv\n",
    "import matplotlib.pyplot as plt\n",
    "import matplotlib.cm as cm\n",
    "import numpy as np\n",
    "\n",
    "from mlxtend.plotting import plot_confusion_matrix\n",
    "from sklearn.metrics import confusion_matrix\n",
    "from sklearn.metrics import classification_report\n",
    "\n",
    "import os"
   ]
  },
  {
   "cell_type": "code",
   "execution_count": 2,
   "metadata": {},
   "outputs": [
    {
     "name": "stdout",
     "output_type": "stream",
     "text": [
      "[PhysicalDevice(name='/physical_device:CPU:0', device_type='CPU')]\n",
      "[PhysicalDevice(name='/physical_device:GPU:0', device_type='GPU')]\n"
     ]
    }
   ],
   "source": [
    "# Check CPU or GPU using by tensorflow\n",
    "cpus = tf.config.list_physical_devices('CPU')\n",
    "print(cpus)\n",
    "\n",
    "gpus = tf.config.list_physical_devices('GPU')\n",
    "print(gpus)"
   ]
  },
  {
   "cell_type": "code",
   "execution_count": 3,
   "metadata": {},
   "outputs": [
    {
     "name": "stdout",
     "output_type": "stream",
     "text": [
      "1 Physical GPUs, 1 Logical GPUs\n"
     ]
    }
   ],
   "source": [
    "# Limit driver usage\n",
    "tf.config.threading.set_intra_op_parallelism_threads(10)\n",
    "tf.config.threading.set_inter_op_parallelism_threads(10)\n",
    "\n",
    "if gpus:\n",
    "  try:\n",
    "    tf.config.set_logical_device_configuration(\n",
    "        gpus[0],\n",
    "        [tf.config.LogicalDeviceConfiguration(memory_limit=4096)])\n",
    "    logical_gpus = tf.config.list_logical_devices('GPU')\n",
    "    print(len(gpus), \"Physical GPUs,\", len(logical_gpus), \"Logical GPUs\")\n",
    "  except RuntimeError as e:\n",
    "    # Virtual devices must be set before GPUs have been initialized\n",
    "    print(e)\n"
   ]
  },
  {
   "cell_type": "code",
   "execution_count": 4,
   "metadata": {},
   "outputs": [],
   "source": [
    "# Path of the different folders\n",
    "train_path = './chest_Xray/train'\n",
    "test_path = './chest_Xray/test'\n",
    "\n",
    "# Fixe images size\n",
    "IMAGE_SIZE = 224\n",
    "batch_size = 8\n",
    "\n",
    "# List different labels\n",
    "labels=['NORMAL', 'PNEUMONIA']"
   ]
  },
  {
   "cell_type": "code",
   "execution_count": 5,
   "metadata": {},
   "outputs": [
    {
     "name": "stdout",
     "output_type": "stream",
     "text": [
      "Found 4173 images belonging to 2 classes.\n",
      "Found 1043 images belonging to 2 classes.\n",
      "Found 624 images belonging to 2 classes.\n",
      "(224, 224, 3)\n"
     ]
    }
   ],
   "source": [
    "train_gen = ImageDataGenerator(\n",
    "    rescale = 1./255,\n",
    "    shear_range = 0.2,\n",
    "    zoom_range = 0.2,\n",
    "    horizontal_flip = True,\n",
    "    validation_split=.2,\n",
    ")\n",
    "\n",
    "train_batches = train_gen.flow_from_directory(\n",
    "    train_path, \n",
    "    target_size = (IMAGE_SIZE, IMAGE_SIZE), \n",
    "    batch_size = batch_size,\n",
    "    class_mode = \"categorical\",\n",
    "    subset='training'\n",
    ")\n",
    "\n",
    "gen = ImageDataGenerator(\n",
    "    rescale = 1./255,\n",
    "    validation_split=.2,\n",
    ")\n",
    "\n",
    "val_batches = gen.flow_from_directory(\n",
    "    train_path, \n",
    "    target_size = (IMAGE_SIZE, IMAGE_SIZE), \n",
    "    batch_size = batch_size,\n",
    "    class_mode = \"categorical\",\n",
    "    subset='validation'\n",
    ")\n",
    "\n",
    "test_batches = gen.flow_from_directory(\n",
    "    test_path, \n",
    "    target_size = (IMAGE_SIZE, IMAGE_SIZE), \n",
    "    batch_size = batch_size,\n",
    "    class_mode = \"categorical\",\n",
    ")\n",
    "\n",
    "print(train_batches.image_shape)"
   ]
  },
  {
   "cell_type": "code",
   "execution_count": 6,
   "metadata": {
    "scrolled": true
   },
   "outputs": [
    {
     "name": "stdout",
     "output_type": "stream",
     "text": [
      "Model: \"model\"\n",
      "_________________________________________________________________\n",
      " Layer (type)                Output Shape              Param #   \n",
      "=================================================================\n",
      " input_1 (InputLayer)        [(None, 224, 224, 3)]     0         \n",
      "                                                                 \n",
      " block1_conv1 (Conv2D)       (None, 224, 224, 64)      1792      \n",
      "                                                                 \n",
      " block1_conv2 (Conv2D)       (None, 224, 224, 64)      36928     \n",
      "                                                                 \n",
      " block1_pool (MaxPooling2D)  (None, 112, 112, 64)      0         \n",
      "                                                                 \n",
      " block2_conv1 (Conv2D)       (None, 112, 112, 128)     73856     \n",
      "                                                                 \n",
      " block2_conv2 (Conv2D)       (None, 112, 112, 128)     147584    \n",
      "                                                                 \n",
      " block2_pool (MaxPooling2D)  (None, 56, 56, 128)       0         \n",
      "                                                                 \n",
      " block3_conv1 (Conv2D)       (None, 56, 56, 256)       295168    \n",
      "                                                                 \n",
      " block3_conv2 (Conv2D)       (None, 56, 56, 256)       590080    \n",
      "                                                                 \n",
      " block3_conv3 (Conv2D)       (None, 56, 56, 256)       590080    \n",
      "                                                                 \n",
      " block3_pool (MaxPooling2D)  (None, 28, 28, 256)       0         \n",
      "                                                                 \n",
      " block4_conv1 (Conv2D)       (None, 28, 28, 512)       1180160   \n",
      "                                                                 \n",
      " block4_conv2 (Conv2D)       (None, 28, 28, 512)       2359808   \n",
      "                                                                 \n",
      " block4_conv3 (Conv2D)       (None, 28, 28, 512)       2359808   \n",
      "                                                                 \n",
      " block4_pool (MaxPooling2D)  (None, 14, 14, 512)       0         \n",
      "                                                                 \n",
      " block5_conv1 (Conv2D)       (None, 14, 14, 512)       2359808   \n",
      "                                                                 \n",
      " block5_conv2 (Conv2D)       (None, 14, 14, 512)       2359808   \n",
      "                                                                 \n",
      " block5_conv3 (Conv2D)       (None, 14, 14, 512)       2359808   \n",
      "                                                                 \n",
      " block5_pool (MaxPooling2D)  (None, 7, 7, 512)         0         \n",
      "                                                                 \n",
      " flatten (Flatten)           (None, 25088)             0         \n",
      "                                                                 \n",
      " dense (Dense)               (None, 1000)              25089000  \n",
      "                                                                 \n",
      " dense_1 (Dense)             (None, 2)                 2002      \n",
      "                                                                 \n",
      "=================================================================\n",
      "Total params: 39,805,690\n",
      "Trainable params: 25,091,002\n",
      "Non-trainable params: 14,714,688\n",
      "_________________________________________________________________\n"
     ]
    }
   ],
   "source": [
    "# VGG16 Model\n",
    "vgg = VGG16(\n",
    "    input_shape = [IMAGE_SIZE, IMAGE_SIZE, 3],\n",
    "    weights = 'imagenet',\n",
    "    include_top=False\n",
    ")\n",
    "\n",
    "# don't train existing weights\n",
    "for layer in vgg.layers:\n",
    "  layer.trainable = False\n",
    "\n",
    "x = Flatten()(vgg.output)\n",
    "x = Dense(1000, activation='relu')(x)\n",
    "\n",
    "# This is the Last Layer with softmax activation for binary outputs\n",
    "prediction = Dense(len(labels), activation='softmax')(x)\n",
    "\n",
    "# create a model object\n",
    "model = Model(inputs=vgg.input, outputs=prediction)\n",
    "\n",
    "# View the structure of the model\n",
    "model.summary()"
   ]
  },
  {
   "cell_type": "code",
   "execution_count": 7,
   "metadata": {},
   "outputs": [
    {
     "name": "stdout",
     "output_type": "stream",
     "text": [
      "Epoch 1/10\n",
      "522/522 [==============================] - ETA: 0s - loss: 0.2129 - accuracy: 0.9171\n",
      "Epoch 1: val_loss improved from inf to 0.29468, saving model to ./ZoidbergVGG16.h5\n",
      "522/522 [==============================] - 54s 100ms/step - loss: 0.2129 - accuracy: 0.9171 - val_loss: 0.2947 - val_accuracy: 0.8869\n",
      "Epoch 2/10\n",
      "522/522 [==============================] - ETA: 0s - loss: 0.1214 - accuracy: 0.9538\n",
      "Epoch 2: val_loss improved from 0.29468 to 0.07428, saving model to ./ZoidbergVGG16.h5\n",
      "522/522 [==============================] - 51s 97ms/step - loss: 0.1214 - accuracy: 0.9538 - val_loss: 0.0743 - val_accuracy: 0.9703\n",
      "Epoch 3/10\n",
      "522/522 [==============================] - ETA: 0s - loss: 0.1125 - accuracy: 0.9576\n",
      "Epoch 3: val_loss did not improve from 0.07428\n",
      "522/522 [==============================] - 50s 96ms/step - loss: 0.1125 - accuracy: 0.9576 - val_loss: 0.6387 - val_accuracy: 0.7689\n",
      "Epoch 4/10\n",
      "522/522 [==============================] - ETA: 0s - loss: 0.1083 - accuracy: 0.9581\n",
      "Epoch 4: val_loss did not improve from 0.07428\n",
      "522/522 [==============================] - 50s 96ms/step - loss: 0.1083 - accuracy: 0.9581 - val_loss: 0.1784 - val_accuracy: 0.9338\n",
      "Epoch 5/10\n",
      "522/522 [==============================] - ETA: 0s - loss: 0.0871 - accuracy: 0.9681\n",
      "Epoch 5: val_loss did not improve from 0.07428\n",
      "522/522 [==============================] - 50s 96ms/step - loss: 0.0871 - accuracy: 0.9681 - val_loss: 0.2028 - val_accuracy: 0.9271\n",
      "Epoch 6/10\n",
      "522/522 [==============================] - ETA: 0s - loss: 0.0996 - accuracy: 0.9643\n",
      "Epoch 6: val_loss did not improve from 0.07428\n",
      "522/522 [==============================] - 50s 96ms/step - loss: 0.0996 - accuracy: 0.9643 - val_loss: 0.1662 - val_accuracy: 0.9367\n",
      "Epoch 7/10\n",
      "522/522 [==============================] - ETA: 0s - loss: 0.0794 - accuracy: 0.9691\n",
      "Epoch 7: val_loss did not improve from 0.07428\n",
      "522/522 [==============================] - 50s 96ms/step - loss: 0.0794 - accuracy: 0.9691 - val_loss: 0.1186 - val_accuracy: 0.9530\n",
      "Epoch 8/10\n",
      "522/522 [==============================] - ETA: 0s - loss: 0.0719 - accuracy: 0.9729\n",
      "Epoch 8: val_loss improved from 0.07428 to 0.05851, saving model to ./ZoidbergVGG16.h5\n",
      "522/522 [==============================] - 52s 99ms/step - loss: 0.0719 - accuracy: 0.9729 - val_loss: 0.0585 - val_accuracy: 0.9751\n",
      "Epoch 9/10\n",
      "522/522 [==============================] - ETA: 0s - loss: 0.0958 - accuracy: 0.9650\n",
      "Epoch 9: val_loss did not improve from 0.05851\n",
      "522/522 [==============================] - 50s 95ms/step - loss: 0.0958 - accuracy: 0.9650 - val_loss: 0.2353 - val_accuracy: 0.9108\n",
      "Epoch 10/10\n",
      "522/522 [==============================] - ETA: 0s - loss: 0.0740 - accuracy: 0.9729\n",
      "Epoch 10: val_loss did not improve from 0.05851\n",
      "522/522 [==============================] - 50s 95ms/step - loss: 0.0740 - accuracy: 0.9729 - val_loss: 0.2853 - val_accuracy: 0.9022\n"
     ]
    }
   ],
   "source": [
    "model.compile(\n",
    "    loss=\"categorical_crossentropy\", \n",
    "    metrics=[\"accuracy\"], \n",
    "    optimizer=keras.optimizers.Adam(learning_rate = 0.0001)\n",
    ")\n",
    "\n",
    "checkpoint = keras.callbacks.ModelCheckpoint(\n",
    "    './ZoidbergVGG16.h5', \n",
    "    monitor = 'val_loss', \n",
    "    verbose = 1, \n",
    "    save_best_only = True, \n",
    "    mode = 'auto'\n",
    ")\n",
    "\n",
    "history = model.fit(\n",
    "    train_batches, \n",
    "    validation_data=val_batches, \n",
    "    epochs=10, \n",
    "    callbacks=[checkpoint],\n",
    ")"
   ]
  },
  {
   "cell_type": "code",
   "execution_count": 8,
   "metadata": {},
   "outputs": [
    {
     "data": {
      "image/png": "[encoded data removed]",
      "text/plain": [
       "<Figure size 640x480 with 1 Axes>"
      ]
     },
     "metadata": {},
     "output_type": "display_data"
    }
   ],
   "source": [
    "plt.plot(history.history[\"accuracy\"])\n",
    "plt.plot(history.history['val_accuracy'])\n",
    "plt.plot(history.history['loss'])\n",
    "plt.plot(history.history['val_loss'])\n",
    "plt.title(\"model accuracy\")\n",
    "plt.ylabel(\"Accuracy\")\n",
    "plt.xlabel(\"Epoch\")\n",
    "plt.legend([\"Accuracy\",\"Validation Accuracy\",\"loss\",\"Validation Loss\"])\n",
    "plt.show()"
   ]
  },
  {
   "cell_type": "code",
   "execution_count": 9,
   "metadata": {},
   "outputs": [],
   "source": [
    "final_model = keras.models.load_model('./ZoidbergVGG16.h5')"
   ]
  },
  {
   "cell_type": "code",
   "execution_count": 10,
   "metadata": {},
   "outputs": [],
   "source": [
    "pred = final_model.predict(test_batches)\n",
    "pred_final = np.argmax(pred, axis=1)"
   ]
  },
  {
   "cell_type": "code",
   "execution_count": 11,
   "metadata": {},
   "outputs": [
    {
     "name": "stdout",
     "output_type": "stream",
     "text": [
      "              precision    recall  f1-score   support\n",
      "\n",
      "      NORMAL       0.31      0.23      0.26       234\n",
      "   PNEUMONIA       0.60      0.70      0.65       390\n",
      "\n",
      "    accuracy                           0.52       624\n",
      "   macro avg       0.46      0.46      0.45       624\n",
      "weighted avg       0.49      0.52      0.50       624\n",
      "\n"
     ]
    }
   ],
   "source": [
    "print(classification_report(test_batches.classes, pred_final, target_names=labels))"
   ]
  },
  {
   "cell_type": "code",
   "execution_count": 12,
   "metadata": {},
   "outputs": [
    {
     "data": {
      "image/png": "[encoded data removed]",
      "text/plain": [
       "<Figure size 800x800 with 1 Axes>"
      ]
     },
     "metadata": {},
     "output_type": "display_data"
    }
   ],
   "source": [
    "CM = confusion_matrix(test_batches.classes, pred_final)\n",
    "\n",
    "fig, ax = plot_confusion_matrix(conf_mat = CM ,  figsize = (8,8))\n",
    "plt.title('Confusion matrix')\n",
    "plt.xticks(range(2), labels, fontsize = 10)\n",
    "plt.yticks(range(2), labels, fontsize = 10)\n",
    "plt.show()"
   ]
  },
  {
   "cell_type": "code",
   "execution_count": null,
   "metadata": {},
   "outputs": [],
   "source": []
  }
 ],
 "metadata": {
  "interpreter": {
   "hash": "901e1ed39c0d4c35d50f24816ca04639e8fc2c3b8a3611b3cb619ce4b2baab35"
  },
  "kernelspec": {
   "display_name": "Python 3",
   "language": "python",
   "name": "python3"
  },
  "language_info": {
   "codemirror_mode": {
    "name": "ipython",
    "version": 3
   },
   "file_extension": ".py",
   "mimetype": "text/x-python",
   "name": "python",
   "nbconvert_exporter": "python",
   "pygments_lexer": "ipython3",
   "version": "3.8.10"
  }
 },
 "nbformat": 4,
 "nbformat_minor": 2
}
